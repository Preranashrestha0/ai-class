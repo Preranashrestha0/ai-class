{
 "cells": [
  {
   "cell_type": "markdown",
   "id": "0feb38d5",
   "metadata": {},
   "source": [
    "# Matrix operations for image processing"
   ]
  },
  {
   "cell_type": "code",
   "execution_count": 2,
   "id": "add03be2",
   "metadata": {},
   "outputs": [],
   "source": [
    "import cv2"
   ]
  },
  {
   "cell_type": "code",
   "execution_count": 3,
   "id": "05456fb8",
   "metadata": {},
   "outputs": [
    {
     "name": "stdout",
     "output_type": "stream",
     "text": [
      "[[[252 252 252]\n",
      "  [252 252 252]\n",
      "  [252 252 252]\n",
      "  ...\n",
      "  [252 252 252]\n",
      "  [252 252 252]\n",
      "  [252 252 252]]\n",
      "\n",
      " [[252 252 252]\n",
      "  [252 252 252]\n",
      "  [252 252 252]\n",
      "  ...\n",
      "  [252 252 252]\n",
      "  [252 252 252]\n",
      "  [252 252 252]]\n",
      "\n",
      " [[252 252 252]\n",
      "  [252 252 252]\n",
      "  [252 252 252]\n",
      "  ...\n",
      "  [252 252 252]\n",
      "  [252 252 252]\n",
      "  [252 252 252]]\n",
      "\n",
      " ...\n",
      "\n",
      " [[252 252 252]\n",
      "  [252 252 252]\n",
      "  [252 252 252]\n",
      "  ...\n",
      "  [252 252 252]\n",
      "  [252 252 252]\n",
      "  [252 252 252]]\n",
      "\n",
      " [[252 252 252]\n",
      "  [252 252 252]\n",
      "  [252 252 252]\n",
      "  ...\n",
      "  [252 252 252]\n",
      "  [252 252 252]\n",
      "  [252 252 252]]\n",
      "\n",
      " [[252 252 252]\n",
      "  [252 252 252]\n",
      "  [252 252 252]\n",
      "  ...\n",
      "  [252 252 252]\n",
      "  [252 252 252]\n",
      "  [252 252 252]]]\n",
      "Size of image 144 125\n"
     ]
    }
   ],
   "source": [
    "image = cv2.imread(\"doraemon.png\")\n",
    "print(image)\n",
    "print(\"Size of image\", len(image), len(image[0]))"
   ]
  },
  {
   "cell_type": "code",
   "execution_count": 4,
   "id": "e502c46d",
   "metadata": {},
   "outputs": [
    {
     "name": "stdout",
     "output_type": "stream",
     "text": [
      "[[252 252 252 ... 252 252 252]\n",
      " [252 252 252 ... 252 252 252]\n",
      " [252 252 252 ... 252 252 252]\n",
      " ...\n",
      " [252 252 252 ... 252 252 252]\n",
      " [252 252 252 ... 252 252 252]\n",
      " [252 252 252 ... 252 252 252]]\n"
     ]
    }
   ],
   "source": [
    "gray = cv2.cvtColor(image, cv2.COLOR_BGR2GRAY)\n",
    "print(gray)"
   ]
  },
  {
   "cell_type": "code",
   "execution_count": 5,
   "id": "7bdd48ca",
   "metadata": {},
   "outputs": [],
   "source": [
    "while True:\n",
    "    cv2.imshow(\"Original\", image)\n",
    "    cv2.imshow(\"Gray\", gray)\n",
    "    \n",
    "    key = cv2.waitKey(1)\n",
    "    if key == 27:\n",
    "        break\n",
    "cv2.destroyAllWindows()        "
   ]
  },
  {
   "cell_type": "code",
   "execution_count": 6,
   "id": "2242695a",
   "metadata": {},
   "outputs": [],
   "source": [
    "from scipy.ndimage import convolve"
   ]
  },
  {
   "cell_type": "code",
   "execution_count": 7,
   "id": "a1fa2232",
   "metadata": {},
   "outputs": [
    {
     "name": "stdout",
     "output_type": "stream",
     "text": [
      "[[240 240 240 ... 240 240 240]\n",
      " [240 240 240 ... 240 240 240]\n",
      " [240 240 240 ... 240 240 240]\n",
      " ...\n",
      " [240 240 240 ... 240 240 240]\n",
      " [240 240 240 ... 240 240 240]\n",
      " [240 240 240 ... 240 240 240]]\n"
     ]
    }
   ],
   "source": [
    "#Let's try to calculate convolution matrix\n",
    "\n",
    "kernel = [[0, 0, 0],\n",
    "          [0, 1, 0],\n",
    "          [0, 0, 0]]\n",
    "\n",
    "edge_kernel = [[0, -1, 0],\n",
    "               [-1, 4, -1],\n",
    "               [0, -1, 0]]\n",
    "\n",
    "sharpen_kernel = [[0, -1, 0],\n",
    "                  [-1, 9, -1],\n",
    "                  [0, -1, -1]]\n",
    "\n",
    "conv = convolve(gray, sharpen_kernel)\n",
    "\n",
    "print(conv)\n",
    "\n",
    "while True:\n",
    "    cv2.imshow(\"Original\", image)\n",
    "    cv2.imshow(\"Gray\", gray)\n",
    "    cv2.imshow(\"Sharpen\", conv)\n",
    "    \n",
    "    key = cv2.waitKey(1)\n",
    "    if key == 27:\n",
    "        break\n",
    "cv2.destroyAllWindows()  "
   ]
  },
  {
   "cell_type": "code",
   "execution_count": 6,
   "id": "2f73e822",
   "metadata": {},
   "outputs": [],
   "source": [
    "cap = cv2.VideoCapture(0)\n",
    "\n",
    "while True:\n",
    "    ret, frame = cap.read()\n",
    "    cv2.imshow(\"Original\", frame)\n",
    "    gray = cv2.cvtColor(frame, cv2.COLOR_BGR2GRAY)\n",
    "    gray = cv2.medianBlur(gray, 5)\n",
    "    \n",
    "    edges = cv2.adaptiveThreshold(gray, 255, cv2.ADAPTIVE_THRESH_MEAN_C, cv2.THRESH_BINARY, 9, 9)\n",
    "    \n",
    "    color = cv2.bilateralFilter(frame, 9, 250, 250)\n",
    "    \n",
    "    #blurred_frame = cv2.GaussianBlur(gray, (5, 5), 0)\n",
    "    \n",
    "    cv2.imshow(\"Gray blurred\", gray)\n",
    "    \n",
    "    cartoon = cv2.bitwise_and(color, color, mask = edges)\n",
    "    \n",
    "    canny = cv2.Canny(blurred_frame, 100, 150)\n",
    "    cv2.imshow(\"Edges\", edges)\n",
    "    cv2.imshow(\"Cartoon\", cartoon)\n",
    "    \n",
    "    key = cv2.waitKey(1)\n",
    "    if key == 27:\n",
    "        break\n",
    "cap.release()\n",
    "cv2.destroyAllWindows()"
   ]
  },
  {
   "cell_type": "code",
   "execution_count": null,
   "id": "61c2a925",
   "metadata": {},
   "outputs": [],
   "source": []
  },
  {
   "cell_type": "code",
   "execution_count": null,
   "id": "b1f67c90",
   "metadata": {},
   "outputs": [],
   "source": []
  }
 ],
 "metadata": {
  "kernelspec": {
   "display_name": "Python 3 (ipykernel)",
   "language": "python",
   "name": "python3"
  },
  "language_info": {
   "codemirror_mode": {
    "name": "ipython",
    "version": 3
   },
   "file_extension": ".py",
   "mimetype": "text/x-python",
   "name": "python",
   "nbconvert_exporter": "python",
   "pygments_lexer": "ipython3",
   "version": "3.11.1"
  }
 },
 "nbformat": 4,
 "nbformat_minor": 5
}
