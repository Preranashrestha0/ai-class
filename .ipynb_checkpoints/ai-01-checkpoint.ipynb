{
 "cells": [
  {
   "cell_type": "markdown",
   "id": "976e8cfb",
   "metadata": {},
   "source": [
    "# AI Lab 01"
   ]
  },
  {
   "cell_type": "markdown",
   "id": "e21a3034",
   "metadata": {},
   "source": [
    "### Lambda function\n",
    "\n",
    "Lambda functions are minimal functions.\n",
    "\n",
    "$\\lambda$\n",
    "\n",
    "$$ x = mx + c $$"
   ]
  },
  {
   "cell_type": "code",
   "execution_count": 3,
   "id": "ea620d39",
   "metadata": {},
   "outputs": [
    {
     "name": "stdout",
     "output_type": "stream",
     "text": [
      "[2, 4, 6, 8, 10, 12, 14, 16, 18]\n"
     ]
    }
   ],
   "source": [
    "print([2 * x for x in range(1, 10)])"
   ]
  },
  {
   "cell_type": "markdown",
   "id": "15ec6c06",
   "metadata": {},
   "source": [
    "## Set Operations"
   ]
  },
  {
   "cell_type": "code",
   "execution_count": 4,
   "id": "dbe6788e",
   "metadata": {},
   "outputs": [
    {
     "name": "stdout",
     "output_type": "stream",
     "text": [
      "{1, 2, (3, 4)}\n"
     ]
    }
   ],
   "source": [
    "s1 = {1,2,(3,4)}\n",
    "print(s1)"
   ]
  },
  {
   "cell_type": "code",
   "execution_count": 5,
   "id": "73330d0b",
   "metadata": {},
   "outputs": [
    {
     "name": "stdout",
     "output_type": "stream",
     "text": [
      "{1, 2, (3, 4), 6}\n"
     ]
    }
   ],
   "source": [
    "#adding elements into the set\n",
    "s1.add(6)\n",
    "print(s1)"
   ]
  },
  {
   "cell_type": "code",
   "execution_count": 6,
   "id": "4d9553e2",
   "metadata": {},
   "outputs": [
    {
     "name": "stdout",
     "output_type": "stream",
     "text": [
      "{1, 2, (3, 4), 6, 7, 8, 9}\n"
     ]
    }
   ],
   "source": [
    "s1.update([7,8,9])\n",
    "print(s1)"
   ]
  },
  {
   "cell_type": "code",
   "execution_count": 7,
   "id": "fb1abd69",
   "metadata": {},
   "outputs": [
    {
     "name": "stdout",
     "output_type": "stream",
     "text": [
      "{1, 2, (3, 4), 6, 7, 9}\n"
     ]
    }
   ],
   "source": [
    "#remove elements\n",
    "s1.remove(8)\n",
    "\n",
    "print(s1)"
   ]
  },
  {
   "cell_type": "code",
   "execution_count": 8,
   "id": "432da7d6",
   "metadata": {},
   "outputs": [
    {
     "ename": "KeyError",
     "evalue": "8",
     "output_type": "error",
     "traceback": [
      "\u001b[1;31m---------------------------------------------------------------------------\u001b[0m",
      "\u001b[1;31mKeyError\u001b[0m                                  Traceback (most recent call last)",
      "Cell \u001b[1;32mIn[8], line 1\u001b[0m\n\u001b[1;32m----> 1\u001b[0m \u001b[43ms1\u001b[49m\u001b[38;5;241;43m.\u001b[39;49m\u001b[43mremove\u001b[49m\u001b[43m(\u001b[49m\u001b[38;5;241;43m8\u001b[39;49m\u001b[43m)\u001b[49m\n",
      "\u001b[1;31mKeyError\u001b[0m: 8"
     ]
    }
   ],
   "source": [
    "s1.remove(8)"
   ]
  },
  {
   "cell_type": "code",
   "execution_count": 9,
   "id": "ef8e5f63",
   "metadata": {},
   "outputs": [
    {
     "name": "stdout",
     "output_type": "stream",
     "text": [
      "{1, 2, 10, 9}\n"
     ]
    }
   ],
   "source": [
    "s2 = {1, 2, 9, 10}\n",
    "print(s2)"
   ]
  },
  {
   "cell_type": "code",
   "execution_count": 14,
   "id": "705c4d2c",
   "metadata": {},
   "outputs": [
    {
     "name": "stdout",
     "output_type": "stream",
     "text": [
      "{1, 2, (3, 4), 6, 7, 9, 10}\n"
     ]
    }
   ],
   "source": [
    "##### union of sets\n",
    "s3 = s1|s2\n",
    "\n",
    "print(s3)\n"
   ]
  },
  {
   "cell_type": "code",
   "execution_count": 11,
   "id": "bf8f1bfd",
   "metadata": {},
   "outputs": [
    {
     "name": "stdout",
     "output_type": "stream",
     "text": [
      "{1, 2, 9}\n"
     ]
    }
   ],
   "source": [
    "####intersection of sets\n",
    "\n",
    "s3 = s1 & s2\n",
    "print(s3)"
   ]
  },
  {
   "cell_type": "code",
   "execution_count": 12,
   "id": "3f1a43e7",
   "metadata": {},
   "outputs": [
    {
     "name": "stdout",
     "output_type": "stream",
     "text": [
      "{(3, 4), 6, 7}\n"
     ]
    }
   ],
   "source": [
    "#### difference of sets\n",
    "\n",
    "s3 = s1 - s2\n",
    "print(s3)"
   ]
  },
  {
   "cell_type": "code",
   "execution_count": 13,
   "id": "c96867c1",
   "metadata": {},
   "outputs": [
    {
     "name": "stdout",
     "output_type": "stream",
     "text": [
      "{(3, 4), 6, 7, 10}\n"
     ]
    }
   ],
   "source": [
    "#### symmetric difference\n",
    "\n",
    "s3 = s1 ^ s2\n",
    "print(s3)"
   ]
  },
  {
   "cell_type": "code",
   "execution_count": 15,
   "id": "cb2942bb",
   "metadata": {},
   "outputs": [
    {
     "name": "stdout",
     "output_type": "stream",
     "text": [
      "Result Matched\n"
     ]
    }
   ],
   "source": [
    "import re \n",
    "pattern = '^P..S$'\n",
    "string = 'PCPS'\n",
    "result = re.match(pattern, string)\n",
    "if result :\n",
    "    print('Result Matched')\n",
    "else:\n",
    "    print('Result not Matched')"
   ]
  },
  {
   "cell_type": "code",
   "execution_count": 17,
   "id": "9c729b15",
   "metadata": {},
   "outputs": [
    {
     "name": "stdout",
     "output_type": "stream",
     "text": [
      "['5', '4', '1']\n"
     ]
    }
   ],
   "source": [
    "pattern = '\\d+'\n",
    "str = 'Adam had 5 apples. He gave 4 of them to Eve. Now he has 1 apple'\n",
    "result = re.findall(pattern, str)\n",
    "print(result)"
   ]
  },
  {
   "cell_type": "code",
   "execution_count": 20,
   "id": "34c1d1d7",
   "metadata": {},
   "outputs": [
    {
     "name": "stdout",
     "output_type": "stream",
     "text": [
      "['5', '7', '4', '1']\n"
     ]
    }
   ],
   "source": [
    "pattern = '[0-9]+'\n",
    "str = 'Adam had 57 apples. He gave 4 of them to Eve. Now he has 1 apple'\n",
    "result = re.findall(pattern, str)\n",
    "print(result)"
   ]
  },
  {
   "cell_type": "code",
   "execution_count": 23,
   "id": "13e1de32",
   "metadata": {},
   "outputs": [
    {
     "data": {
      "text/plain": [
       "array([67, 40])"
      ]
     },
     "execution_count": 23,
     "metadata": {},
     "output_type": "execute_result"
    }
   ],
   "source": [
    "import numpy as np\n",
    "mata = [2,3,4]\n",
    "matb = [[5, 6],\n",
    "        [7, 8],\n",
    "        [9, 1]]\n",
    "np.matmul(mata, matb)"
   ]
  },
  {
   "cell_type": "code",
   "execution_count": 27,
   "id": "1c59eef6",
   "metadata": {},
   "outputs": [
    {
     "data": {
      "text/plain": [
       "56"
      ]
     },
     "execution_count": 27,
     "metadata": {},
     "output_type": "execute_result"
    }
   ],
   "source": [
    "mata = [2,3, 4]\n",
    "matb = [5, 6, 7]\n",
    "np.dot(mata, matb)"
   ]
  },
  {
   "cell_type": "markdown",
   "id": "24a69726",
   "metadata": {},
   "source": [
    "### Data Visualization"
   ]
  },
  {
   "cell_type": "code",
   "execution_count": 42,
   "id": "f40652c2",
   "metadata": {},
   "outputs": [
    {
     "data": {
      "image/png": "[encoded data removed]",
      "text/plain": [
       "<Figure size 640x480 with 1 Axes>"
      ]
     },
     "metadata": {},
     "output_type": "display_data"
    }
   ],
   "source": [
    "from matplotlib import pyplot as plt\n",
    "subjects = ['PoP', 'Database', 'Networking']\n",
    "marks = [85, 75, 80]\n",
    "plt.xlabel(\"Subjects\" + u\"\\u2192\")\n",
    "plt.ylabel(\"Marks\" + u\"\\u2192\")\n",
    "\n",
    "plt.xticks(range(len(subjects)), subjects)\n",
    "plt.bar(range(len(subjects)), marks)\n",
    "plt.title(\"Marks in subject\")\n",
    "plt.show()"
   ]
  },
  {
   "cell_type": "code",
   "execution_count": null,
   "id": "15827251",
   "metadata": {},
   "outputs": [],
   "source": []
  }
 ],
 "metadata": {
  "kernelspec": {
   "display_name": "Python 3 (ipykernel)",
   "language": "python",
   "name": "python3"
  },
  "language_info": {
   "codemirror_mode": {
    "name": "ipython",
    "version": 3
   },
   "file_extension": ".py",
   "mimetype": "text/x-python",
   "name": "python",
   "nbconvert_exporter": "python",
   "pygments_lexer": "ipython3",
   "version": "3.11.1"
  }
 },
 "nbformat": 4,
 "nbformat_minor": 5
}
