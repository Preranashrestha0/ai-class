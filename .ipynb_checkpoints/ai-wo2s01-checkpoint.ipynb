{
 "cells": [
  {
   "cell_type": "code",
   "execution_count": null,
   "id": "e5baea23",
   "metadata": {},
   "outputs": [],
   "source": []
  },
  {
   "cell_type": "code",
   "execution_count": null,
   "id": "abd4598f",
   "metadata": {},
   "outputs": [],
   "source": []
  },
  {
   "cell_type": "code",
   "execution_count": null,
   "id": "f26659e7",
   "metadata": {},
   "outputs": [],
   "source": []
  },
  {
   "cell_type": "code",
   "execution_count": null,
   "id": "8bb70242",
   "metadata": {},
   "outputs": [],
   "source": [
    "#let's see correlation between weight and pace of the players!\n",
    "\n",
    "weight = df.loc[:, 'weight_kg']\n",
    "pace = df.loc[:, 'pace']"
   ]
  },
  {
   "cell_type": "code",
   "execution_count": null,
   "id": "08da87e9",
   "metadata": {},
   "outputs": [],
   "source": [
    "data = {'weight' : weight, 'pace' : pace}\n",
    "new_df = pd.DataFrame(data)\n",
    "new_df.plot(styles=['o', 'rw'])"
   ]
  },
  {
   "cell_type": "code",
   "execution_count": null,
   "id": "009f2b0b",
   "metadata": {},
   "outputs": [],
   "source": [
    "plt.scatter(weight, pace)\n"
   ]
  },
  {
   "cell_type": "code",
   "execution_count": null,
   "id": "7dd444fa",
   "metadata": {},
   "outputs": [],
   "source": [
    "corr = df['weight_kg'].corr(df['pace'])\n",
    "print(corr)"
   ]
  }
 ],
 "metadata": {
  "kernelspec": {
   "display_name": "Python 3 (ipykernel)",
   "language": "python",
   "name": "python3"
  },
  "language_info": {
   "codemirror_mode": {
    "name": "ipython",
    "version": 3
   },
   "file_extension": ".py",
   "mimetype": "text/x-python",
   "name": "python",
   "nbconvert_exporter": "python",
   "pygments_lexer": "ipython3",
   "version": "3.11.1"
  }
 },
 "nbformat": 4,
 "nbformat_minor": 5
}
